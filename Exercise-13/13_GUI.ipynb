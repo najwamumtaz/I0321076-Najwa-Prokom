{
 "cells": [
  {
   "cell_type": "markdown",
   "metadata": {},
   "source": [
    "***\n",
    "<h1 align=\"center\">Exercise 13</h1> \n",
    "\n",
    "***\n",
    "## GUI (*Graphical User Interface*)\n",
    "\n",
    "### 1. Pemrograman GUI dengan Tkinter\n",
    "Buatlah kode seperti contoh berikut pada cell di bawah \n",
    "\n",
    "![](./images/13_Tkinter.png)"
   ]
  },
  {
   "cell_type": "code",
   "execution_count": 3,
   "metadata": {},
   "outputs": [],
   "source": [
    "#kerjakan disini\n",
    "import tkinter\n",
    "mainform = tkinter.Tk()\n",
    "mainform.wm_title('Hello')\n",
    "mainform.mainloop()\n"
   ]
  },
  {
   "cell_type": "markdown",
   "metadata": {},
   "source": [
    "### 2. Membuat dan Menempatkan Kontrol di dalam Form\n",
    "Buatlah kode seperti contoh berikut pada cell di bawah\n",
    "\n",
    "![](./images/13_Form.png)"
   ]
  },
  {
   "cell_type": "code",
   "execution_count": 5,
   "metadata": {},
   "outputs": [],
   "source": [
    "#kerjakan disini\n",
    "import tkinter\n",
    "mainform = tkinter.Tk()\n",
    "lbl = tkinter.Label(mainform)\n",
    "lbl['text'] = \"Masukkan nama anda\"\n",
    "lbl.pack()\n",
    "txt = tkinter.Entry(mainform)\n",
    "txt['width'] = 40 \n",
    "txt.pack()\n",
    "btn = tkinter.Button(mainform)\n",
    "btn['text'] = \"Lanjut\"\n",
    "btn.pack()\n",
    "mainform.wm_title('Hello!')\n",
    "mainform.mainloop()"
   ]
  },
  {
   "cell_type": "markdown",
   "metadata": {},
   "source": [
    "### 3. Menangani Event\n",
    "Buatlah kode seperti contoh berikut pada cell di bawah\n",
    "\n",
    "![](./images/13_Buttonclick.png)"
   ]
  },
  {
   "cell_type": "code",
   "execution_count": 9,
   "metadata": {},
   "outputs": [],
   "source": [
    "#kerjakan disini\n",
    "import tkinter\n",
    "import tkinter.messagebox as messagebox\n",
    "mainform = tkinter.Tk()\n",
    "def buttonclick () :\n",
    "    messagebox.showinfo(\"Hallo\", \"Hallo %s, apa kabar?\" % (txt.get()))\n",
    "lbl = tkinter.Label(mainform)\n",
    "lbl['text'] = \"Masukkan nama anda\"\n",
    "lbl.pack()\n",
    "txt = tkinter.Entry(mainform)\n",
    "txt['width'] = 40\n",
    "txt.pack()\n",
    "btn = tkinter.Button(mainform, command=buttonclick)\n",
    "btn['text'] = \"Lanjut\"\n",
    "btn.pack()\n",
    "mainform.wm_title('Hello')\n",
    "mainform.mainloop()\n"
   ]
  },
  {
   "cell_type": "markdown",
   "metadata": {},
   "source": [
    "### 4. Mengatur Tampilan Form dengan Grid Manager\n",
    "Buatlah kode seperti contoh berikut pada cell di bawah\n",
    "\n",
    "![](./images/13_RememberA.png)\n",
    "![](./images/13_RememberB.png)"
   ]
  },
  {
   "cell_type": "code",
   "execution_count": 10,
   "metadata": {},
   "outputs": [],
   "source": [
    "#kerjakan disini\n",
    "import tkinter\n",
    "\n",
    "mainform = tkinter.Tk()\n",
    "lbl1 = tkinter.Label(mainform)\n",
    "lbl1 ['text'] = \"Masukkan nama anda\"\n",
    "lbl1.grid(row=0, column=0, sticky=tkinter.E)\n",
    "txt1 = tkinter.Entry(mainform)\n",
    "txt1 ['width'] = 40\n",
    "txt1.grid(row=0, column=1, columnspan=2)\n",
    "\n",
    "txt2 = tkinter.Entry(mainform)\n",
    "txt2 ['width'] = 40\n",
    "txt2.grid(row=0, column=1, columnspan=2)\n",
    "chk = tkinter.Checkbutton(mainform)\n",
    "chk ['text'] = \"Remember me\"\n",
    "chk.grid(row=2, column=0)\n",
    "\n",
    "btn1 = tkinter.Button(mainform)\n",
    "btn1 ['text'] = \"Lanjut\"\n",
    "btn1.grid(row=2, column=1, sticky=tkinter.N+tkinter.E+tkinter.S+tkinter.W)\n",
    "btn2 = tkinter.Button(mainform)\n",
    "btn2 ['text'] = \"Exit\"\n",
    "btn2.grid(row=2, column=2, sticky=tkinter.N+tkinter.E+tkinter.S+tkinter.W)\n",
    "mainform.wm_title('Hello')\n",
    "mainform.mainloop()\n"
   ]
  },
  {
   "cell_type": "markdown",
   "metadata": {},
   "source": [
    "### 5. Menggunakan Kelas Frame\n",
    "Buatlah kode seperti contoh berikut pada cell di bawah\n",
    "\n",
    "![](./images/13_Frame.png)"
   ]
  },
  {
   "cell_type": "code",
   "execution_count": 11,
   "metadata": {},
   "outputs": [],
   "source": [
    "#kerjakan disini\n",
    "import tkinter\n",
    "mainform = tkinter.Frame()\n",
    "mainform.grid()\n",
    "btnout = tkinter.Button(mainform, text=\"keluar\", command=mainform.destroy)\n",
    "btnout.grid(sticky=tkinter.E+tkinter.S, padx=90, pady=90)\n",
    "mainform.master.title(\"Demo Frame\")\n",
    "mainform.mainloop()\n",
    "\n"
   ]
  },
  {
   "cell_type": "markdown",
   "metadata": {},
   "source": [
    "### 6. Kontrol Button\n",
    "Buatlah kode seperti contoh berikut pada cell di bawah\n",
    "\n",
    "![](./images/13_ClickHere.png)"
   ]
  },
  {
   "cell_type": "code",
   "execution_count": 17,
   "metadata": {},
   "outputs": [],
   "source": [
    "#kerjakan disini\n",
    "import tkinter\n",
    "import tkinter.messagebox\n",
    "def buttonclick():\n",
    "    tkinter.messagebox.showinfo(\"Informasi\", \"Helllo!\")\n",
    "def main():\n",
    "    mainform = tkinter.Tk()\n",
    "    mainform.title(\"Demo button\")\n",
    "    mainform.geometry(\"280x200\")\n",
    "    button = tkinter.Button(mainform, text=\"Click here!\", background=\"#334477\", width=10, command=buttonclick)\n",
    "    button.grid(sticky=tkinter.E+tkinter.S, padx=90, pady=120)\n",
    "    mainform.mainloop()\n",
    "if __name__ == '__main__':\n",
    "    main()\n"
   ]
  },
  {
   "cell_type": "markdown",
   "metadata": {},
   "source": [
    "### 7. Kontrol CheckButton\n",
    "Buatlah kode seperti contoh berikut pada cell di bawah\n",
    "\n",
    "![](./images/13_HobiA.png)\n",
    "![](./images/13_HobiB.png)"
   ]
  },
  {
   "cell_type": "code",
   "execution_count": null,
   "metadata": {},
   "outputs": [],
   "source": [
    "#kerjakan disini\n",
    "import _____\n"
   ]
  },
  {
   "cell_type": "markdown",
   "metadata": {},
   "source": [
    "### 8. Kontrol Entry\n",
    "Buatlah kode seperti contoh berikut pada cell di bawah\n",
    "\n",
    "![](./images/13_EntryA.png)\n",
    "![](./images/13_EntryB.png)"
   ]
  },
  {
   "cell_type": "code",
   "execution_count": 3,
   "metadata": {},
   "outputs": [],
   "source": [
    "#kerjakan disini\n",
    "import tkinter\n",
    "import tkinter.messagebox\n",
    "\n",
    "def main():\n",
    "    mainform = tkinter.Tk()\n",
    "    mainform.title(\"Demo Button\")\n",
    "    mainform.geometry(\"155x100\")\n",
    "    var1 = tkinter.StringVar()\n",
    "    var1.set(\"Python...\")\n",
    "    def kosongkan():\n",
    "        var1.set(\"\")\n",
    "    def ambilteks():\n",
    "        tkinter.messagebox.showinfo(\"informasi\", var1.get())\n",
    "    l = tkinter.Label(mainform, text=\"Masukkan teks\")\n",
    "    l.grid(row=0, column=0, columnspan=2, sticky=tkinter.W+tkinter.E, padx=4, pady=4)\n",
    "\n",
    "    e = tkinter.Entry(mainform, textvariable=var1)\n",
    "    e.grid(row=1, column=0, columnspan=2, sticky=tkinter.W+tkinter.E, padx=4, pady=4)\n",
    "\n",
    "    b1 = tkinter.Button(mainform, text=\"Kosongkan\", command=kosongkan)\n",
    "    b1.grid(row =2, column=0, padx=4, pady=4)\n",
    "    b2 = tkinter.Button(mainform, text=\"Ambil teks\", command=ambilteks)\n",
    "    b2.grid(row =2, column=0, padx=4, pady=4)\n",
    "\n",
    "    mainform.mainloop()\n",
    "if __name__ == '__main__':\n",
    "    main()\n",
    "\n"
   ]
  },
  {
   "cell_type": "markdown",
   "metadata": {},
   "source": [
    "***\n",
    "<h1 align=\"center\">Well Done!!!</h1> \n",
    "\n",
    "***"
   ]
  }
 ],
 "metadata": {
  "interpreter": {
   "hash": "14958d3aee5f1cad06795f787e54b96185c25fb40dfec723a5be941f3a531b8c"
  },
  "kernelspec": {
   "display_name": "Python 3.9.7 64-bit",
   "language": "python",
   "name": "python3"
  },
  "language_info": {
   "codemirror_mode": {
    "name": "ipython",
    "version": 3
   },
   "file_extension": ".py",
   "mimetype": "text/x-python",
   "name": "python",
   "nbconvert_exporter": "python",
   "pygments_lexer": "ipython3",
   "version": "3.9.7"
  },
  "orig_nbformat": 4
 },
 "nbformat": 4,
 "nbformat_minor": 2
}
